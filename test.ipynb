{
 "cells": [
  {
   "cell_type": "code",
   "execution_count": 5,
   "metadata": {},
   "outputs": [],
   "source": [
    "import Bio\n",
    "from localalign import localAllignment\n",
    "from globalalign import globalAllignment\n",
    "from Bio import AlignIO\n",
    "from Bio.Phylo.TreeConstruction import MultipleSeqAlignment\n",
    "from Bio.Phylo.TreeConstruction import DistanceCalculator\n",
    "from Bio.Phylo.TreeConstruction import DistanceTreeConstructor\n",
    "from muscle import muscle"
   ]
  },
  {
   "cell_type": "code",
   "execution_count": 9,
   "metadata": {},
   "outputs": [
    {
     "name": "stdout",
     "output_type": "stream",
     "text": [
      "\n",
      "Sequence 1:  \n"
     ]
    }
   ],
   "source": [
    "\n",
    "seqe = muscle(\"./data/Group_7.fasta\")\n",
    "\n",
    "print(\"Sequence 1: \", seqe)\n",
    "# Read the multiple sequence alignment\n",
    "# alignment = AlignIO.read(\"./data/Group_7.fasta\", \"fasta\")\n",
    "\n",
    "# Create the MultipleSeqAlignment object\n",
    "# msa = MultipleSeqAlignment(alignment)\n",
    "\n",
    "# # Calculate the distance matrix\n",
    "# calculator = DistanceCalculator('identity')\n",
    "# dm = calculator.get_distance(msa)\n",
    "\n",
    "# # Construct the phylogenetic tree using the neighbor-joining method\n",
    "# constructor = DistanceTreeConstructor(calculator, 'nj')\n",
    "# tree = constructor.build_tree(msa)\n",
    "\n",
    "# # Print the phylogenetic tree in Newick format\n",
    "# print(tree.format(\"newick\"))\n"
   ]
  },
  {
   "cell_type": "code",
   "execution_count": 11,
   "metadata": {},
   "outputs": [
    {
     "data": {
      "text/plain": [
       "''"
      ]
     },
     "execution_count": 11,
     "metadata": {},
     "output_type": "execute_result"
    }
   ],
   "source": [
    "import subprocess\n",
    "\n",
    "def muscle(fasta_file):\n",
    "    # Function to run muscle on a fasta file\n",
    "    # Returns the output of the muscle command  \n",
    "    output = subprocess.check_output(\n",
    "        [\"muscle5.1.win64.exe\",\n",
    "         \"-align\", fasta_file,\n",
    "         \"-output\", r\"aligned.fasta\"], text=True)\n",
    "    return output\n",
    "\n",
    "muscle(\"./data/Group_7.fasta\")\n",
    "\n"
   ]
  }
 ],
 "metadata": {
  "kernelspec": {
   "display_name": "Python 3",
   "language": "python",
   "name": "python3"
  },
  "language_info": {
   "codemirror_mode": {
    "name": "ipython",
    "version": 3
   },
   "file_extension": ".py",
   "mimetype": "text/x-python",
   "name": "python",
   "nbconvert_exporter": "python",
   "pygments_lexer": "ipython3",
   "version": "3.10.2"
  },
  "orig_nbformat": 4,
  "vscode": {
   "interpreter": {
    "hash": "beca8f58a87454cbbf496136778470153e37468d9551cf86484af7e240c0471c"
   }
  }
 },
 "nbformat": 4,
 "nbformat_minor": 2
}
