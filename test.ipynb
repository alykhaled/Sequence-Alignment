{
 "cells": [
  {
   "cell_type": "code",
   "execution_count": 15,
   "metadata": {},
   "outputs": [],
   "source": [
    "import Bio\n",
    "from localalign import localAllignment\n",
    "from globalalign import globalAllignment\n",
    "from Bio import AlignIO\n",
    "from Bio.Phylo.TreeConstruction import MultipleSeqAlignment\n",
    "from Bio.Phylo.TreeConstruction import DistanceCalculator\n",
    "from Bio.Phylo.TreeConstruction import DistanceTreeConstructor\n",
    "from muscle import muscle\n",
    "import matplotlib.pyplot as plt\n",
    "from Bio import Phylo"
   ]
  },
  {
   "cell_type": "code",
   "execution_count": 16,
   "metadata": {},
   "outputs": [
    {
     "name": "stdout",
     "output_type": "stream",
     "text": [
      "((Endozoicomonas:0.05754,Shewanella:0.07293)Inner1:0.03039,Fictibacillus:0.11872,Ruegeria:0.35049)Inner2:0.00000;\n",
      "\n"
     ]
    },
    {
     "data": {
      "image/png": "[encoded data removed]",
      "text/plain": [
       "<Figure size 640x640 with 1 Axes>"
      ]
     },
     "metadata": {
      "needs_background": "light"
     },
     "output_type": "display_data"
    }
   ],
   "source": [
    "\n",
    "# seqe = muscle(\"./data/Group_7.fasta\")\n",
    "\n",
    "# print(\"Sequence 1: \", seqe)\n",
    "# Read the multiple sequence alignment\n",
    "alignment = AlignIO.read(\"./data/alig.fasta\", \"fasta\")\n",
    "\n",
    "# Create the MultipleSeqAlignment object\n",
    "msa = MultipleSeqAlignment(alignment)\n",
    "\n",
    "# Calculate the distance matrix\n",
    "calculator = DistanceCalculator('identity')\n",
    "dm = calculator.get_distance(msa)\n",
    "\n",
    "# Construct the phylogenetic tree using the neighbor-joining method\n",
    "constructor = DistanceTreeConstructor(calculator, 'nj')\n",
    "tree = constructor.build_tree(msa)\n",
    "\n",
    "# Print the phylogenetic tree in Newick format\n",
    "print(tree.format(\"newick\"))\n",
    "fig = plt.figure(figsize=(8, 8), dpi=80)\n",
    "ax = fig.add_subplot(1, 1, 1)\n",
    "\n",
    "# Draw the phylogenetic tree\n",
    "Phylo.draw(tree, axes=ax)\n",
    "\n",
    "# Show the plot\n",
    "plt.show()"
   ]
  },
  {
   "cell_type": "code",
   "execution_count": 5,
   "metadata": {},
   "outputs": [
    {
     "data": {
      "text/plain": [
       "''"
      ]
     },
     "execution_count": 5,
     "metadata": {},
     "output_type": "execute_result"
    }
   ],
   "source": [
    "import subprocess\n",
    "\n",
    "def muscle(fasta_file):\n",
    "    # Function to run muscle on a fasta file\n",
    "    # Returns the output of the muscle command  \n",
    "    # .\\muscle5.1.win64.exe -align .\\data\\Group_7.fasta -output .\\data\\alig.fasta\n",
    "      \n",
    "    output = subprocess.check_output(\n",
    "        [\"./muscle5.1.win64.exe\",\n",
    "            \"-align\", fasta_file,\n",
    "            \"-output\", r\"./data/alig.fasta\"], text=True)\n",
    "    return output\n",
    "\n",
    "muscle(\"./data/Group_7.fasta\")\n",
    "\n"
   ]
  },
  {
   "cell_type": "code",
   "execution_count": 10,
   "metadata": {},
   "outputs": [
    {
     "ename": "NameError",
     "evalue": "name 'io' is not defined",
     "output_type": "error",
     "traceback": [
      "\u001b[1;31m---------------------------------------------------------------------------\u001b[0m",
      "\u001b[1;31mNameError\u001b[0m                                 Traceback (most recent call last)",
      "\u001b[1;32me:\\projects\\bioinformatics\\Sequence-Alignment\\test.ipynb Cell 4\u001b[0m in \u001b[0;36m<cell line: 15>\u001b[1;34m()\u001b[0m\n\u001b[0;32m     <a href='vscode-notebook-cell:/e%3A/projects/bioinformatics/Sequence-Alignment/test.ipynb#W3sZmlsZQ%3D%3D?line=11'>12</a>\u001b[0m \u001b[39m# png = weblogo.png_formatter(logodata, logo_format)\u001b[39;00m\n\u001b[0;32m     <a href='vscode-notebook-cell:/e%3A/projects/bioinformatics/Sequence-Alignment/test.ipynb#W3sZmlsZQ%3D%3D?line=12'>13</a>\u001b[0m eps \u001b[39m=\u001b[39m weblogo\u001b[39m.\u001b[39meps_formatter(logodata, logo_format)\n\u001b[1;32m---> <a href='vscode-notebook-cell:/e%3A/projects/bioinformatics/Sequence-Alignment/test.ipynb#W3sZmlsZQ%3D%3D?line=14'>15</a>\u001b[0m pic \u001b[39m=\u001b[39m io\u001b[39m.\u001b[39mBytesIO(eps)\n\u001b[0;32m     <a href='vscode-notebook-cell:/e%3A/projects/bioinformatics/Sequence-Alignment/test.ipynb#W3sZmlsZQ%3D%3D?line=15'>16</a>\u001b[0m img \u001b[39m=\u001b[39m Image\u001b[39m.\u001b[39mopen(pic)\n\u001b[0;32m     <a href='vscode-notebook-cell:/e%3A/projects/bioinformatics/Sequence-Alignment/test.ipynb#W3sZmlsZQ%3D%3D?line=16'>17</a>\u001b[0m img\u001b[39m.\u001b[39msave(\u001b[39m\"\u001b[39m\u001b[39mlogooo.png\u001b[39m\u001b[39m\"\u001b[39m)\n",
      "\u001b[1;31mNameError\u001b[0m: name 'io' is not defined"
     ]
    }
   ],
   "source": [
    "import weblogo\n",
    "from PIL import Image\n",
    "import io\n",
    "# Load a multiple sequence alignment in FASTA format\n",
    "with open(\"./data/alig.fasta\", \"r\") as f:\n",
    "    alignment = weblogo.read_seq_data(f)\n",
    "\n",
    "# Generate the sequence logo\n",
    "logo_options = weblogo.LogoOptions()\n",
    "logodata = weblogo.LogoData.from_seqs(alignment)\n",
    "logo_options.title = \"Multiple Sequence Alignment\"\n",
    "logo_format = weblogo.LogoFormat(logodata, logo_options)\n",
    "# png = weblogo.png_formatter(logodata, logo_format)\n",
    "eps = weblogo.eps_formatter(logodata, logo_format)\n",
    "\n",
    "pic = io.BytesIO(eps)\n",
    "img = Image.open(pic)\n",
    "img.save(\"logooo.png\")"
   ]
  }
 ],
 "metadata": {
  "kernelspec": {
   "display_name": "Python 3",
   "language": "python",
   "name": "python3"
  },
  "language_info": {
   "codemirror_mode": {
    "name": "ipython",
    "version": 3
   },
   "file_extension": ".py",
   "mimetype": "text/x-python",
   "name": "python",
   "nbconvert_exporter": "python",
   "pygments_lexer": "ipython3",
   "version": "3.10.2"
  },
  "orig_nbformat": 4,
  "vscode": {
   "interpreter": {
    "hash": "beca8f58a87454cbbf496136778470153e37468d9551cf86484af7e240c0471c"
   }
  }
 },
 "nbformat": 4,
 "nbformat_minor": 2
}
